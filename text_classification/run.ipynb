{
 "cells": [
  {
   "cell_type": "markdown",
   "metadata": {},
   "source": [
    "# Text Classification\n",
    "*Complete and hand in this completed worksheet (including its outputs and any supporting code outside of the worksheet) with your assignment submission. Please check the pdf file for more details.*\n",
    "\n",
    "In this exercise you will:\n",
    "    \n",
    "- implement a of spam classifier with **Naive Bayes method** for real world email messages\n",
    "- learn the **training and testing phase** for Naive Bayes classifier  \n",
    "- get an idea of the **precision-recall** tradeoff"
   ]
  },
  {
   "cell_type": "code",
   "execution_count": 142,
   "metadata": {},
   "outputs": [
    {
     "output_type": "stream",
     "name": "stdout",
     "text": "The autoreload extension is already loaded. To reload it, use:\n  %reload_ext autoreload\n"
    }
   ],
   "source": [
    "# some basic imports\n",
    "import numpy as np\n",
    "import matplotlib.pyplot as plt\n",
    "import scipy.sparse\n",
    "%matplotlib inline\n",
    "\n",
    "%load_ext autoreload\n",
    "%autoreload 2"
   ]
  },
  {
   "cell_type": "code",
   "execution_count": 143,
   "metadata": {},
   "outputs": [],
   "source": [
    "# ham_train contains the occurrences of each word in ham emails. 1-by-N vector\n",
    "ham_train = np.loadtxt('ham_train.csv', delimiter=',')\n",
    "# spam_train contains the occurrences of each word in spam emails. 1-by-N vector\n",
    "spam_train = np.loadtxt('spam_train.csv', delimiter=',')\n",
    "# N is the size of vocabulary.\n",
    "N = ham_train.shape[0]\n",
    "# There 9034 ham emails and 3372 spam emails in the training samples\n",
    "num_ham_train = 9034\n",
    "num_spam_train = 3372\n",
    "# Do smoothing\n",
    "x = np.vstack([ham_train, spam_train]) + 1\n",
    "\n",
    "# ham_test contains the occurences of each word in each ham test email. P-by-N vector, with P is number of ham test emails.\n",
    "i,j,ham_test = np.loadtxt('ham_test.txt').T\n",
    "i = i.astype(np.int)\n",
    "j = j.astype(np.int)\n",
    "ham_test_tight = scipy.sparse.coo_matrix((ham_test, (i - 1, j - 1)))\n",
    "ham_test = scipy.sparse.csr_matrix((ham_test_tight.shape[0], ham_train.shape[0]))\n",
    "ham_test[:, 0:ham_test_tight.shape[1]] = ham_test_tight\n",
    "# spam_test contains the occurences of each word in each spam test email. Q-by-N vector, with Q is number of spam test emails.\n",
    "i,j,spam_test = np.loadtxt('spam_test.txt').T\n",
    "i = i.astype(np.int)\n",
    "j = j.astype(np.int)\n",
    "spam_test_tight = scipy.sparse.csr_matrix((spam_test, (i - 1, j - 1)))\n",
    "spam_test = scipy.sparse.csr_matrix((spam_test_tight.shape[0], spam_train.shape[0]))\n",
    "spam_test[:, 0:spam_test_tight.shape[1]] = spam_test_tight\n"
   ]
  },
  {
   "cell_type": "markdown",
   "metadata": {},
   "source": [
    "## Now let's implement a ham/spam email classifier. Please refer to the PDF file for details"
   ]
  },
  {
   "cell_type": "code",
   "execution_count": 144,
   "metadata": {},
   "outputs": [
    {
     "output_type": "stream",
     "name": "stdout",
     "text": "[30032 75525 38175 45152  9493 65397 37567 13612 56929  9452]\n['nbsp', 'viagra', 'pills', 'cialis', 'voip', 'php', 'meds', 'computron', 'sex', 'ooking']\n"
    }
   ],
   "source": [
    "from likelihood import likelihood\n",
    "# Implement a ham/spam email classifier, and calculate the accuracy of your classifier\n",
    "\n",
    "# Hint: you can directly do matrix multiply between scipy.sparse.coo_matrix and numpy.array.\n",
    "# Specifically, you can use sparse_matrix * np_array to do this. Note that when you use \"*\" operator\n",
    "# between numpy array, this is typically an elementwise multiply.\n",
    "\n",
    "# begin answer\n",
    "\n",
    "# 0 - ham, 1 - spam\n",
    "l_train = likelihood(x)\n",
    "ratio_train = l_train[1] / l_train[0]\n",
    "top_10_index = np.argsort(ratio_train)[::-1][0:10]\n",
    "\n",
    "print(top_10_index)\n",
    "\n",
    "word_map_file = open(\"all_word_map.txt\", \"r\")\n",
    "line = word_map_file.readline()\n",
    "word_map = []\n",
    "while line:\n",
    "    word_map.append(line.split()[0])\n",
    "    line = word_map_file.readline()\n",
    "\n",
    "top_10_word = []\n",
    "for i in range(10):\n",
    "    top_10_word.append(word_map[top_10_index[i]])\n",
    "\n",
    "print(top_10_word)\n",
    "    "
   ]
  },
  {
   "cell_type": "code",
   "execution_count": 145,
   "metadata": {},
   "outputs": [
    {
     "output_type": "stream",
     "name": "stdout",
     "text": "ham true value: 3011, miss: 28\nspam true value: 1124, miss: 31\naccuracy: 0.9857315598548972\nprecision: 0.9750223015165032, recall: 0.9724199288256228\n"
    }
   ],
   "source": [
    "num_train_total = num_ham_train + num_spam_train\n",
    "# 0 - ham, 1 - spam\n",
    "prior = np.array([num_ham_train, num_spam_train]) / num_train_total\n",
    "\n",
    "l_train_log = np.log(l_train)\n",
    "\n",
    "# [post_1, post_2]\n",
    "ham_posterior_matrix = ham_test * l_train_log.T + np.log(prior)\n",
    "ham_miss = np.sum(ham_posterior_matrix[:, 0] < ham_posterior_matrix[:, 1])\n",
    "\n",
    "print(\"ham true value: {}, miss: {}\".format(ham_test.shape[0], ham_miss))\n",
    "\n",
    "# [post_1, post_2]\n",
    "spam_posterior_matrix = spam_test * l_train_log.T + np.log(prior)\n",
    "spam_miss = np.sum(spam_posterior_matrix[:, 0] > spam_posterior_matrix[:, 1])\n",
    "\n",
    "print(\"spam true value: {}, miss: {}\".format(spam_test.shape[0], spam_miss))\n",
    "\n",
    "accuracy = 1 - ((spam_miss + ham_miss) * 1.0 / (ham_test.shape[0] + spam_test.shape[0]))    \n",
    "\n",
    "print(\"accuracy: {}\".format(accuracy))\n",
    "\n",
    "precision = (spam_test.shape[0] - spam_miss) * 1.0 / ((spam_test.shape[0] - spam_miss) + ham_miss)\n",
    "\n",
    "recall = 1.0 * (spam_test.shape[0] - spam_miss) / spam_test.shape[0]\n",
    "\n",
    "print(\"precision: {}, recall: {}\".format(precision, recall))"
   ]
  }
 ],
 "metadata": {
  "kernelspec": {
   "display_name": "Python 3.8.2 64-bit",
   "language": "python",
   "name": "python38264bit90f9edb47bf246cf8d94bcd6211fb7fc"
  },
  "language_info": {
   "codemirror_mode": {
    "name": "ipython",
    "version": 3
   },
   "file_extension": ".py",
   "mimetype": "text/x-python",
   "name": "python",
   "nbconvert_exporter": "python",
   "pygments_lexer": "ipython3",
   "version": "3.8.2-final"
  }
 },
 "nbformat": 4,
 "nbformat_minor": 2
}